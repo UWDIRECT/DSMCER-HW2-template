{
 "cells": [
  {
   "cell_type": "markdown",
   "metadata": {},
   "source": [
    "## HW Assignment 2 for DSMCER"
   ]
  },
  {
   "cell_type": "markdown",
   "metadata": {},
   "source": [
    "\n",
    "### Part 1 - Basic Data Visualization \n",
    "\n",
    "#### Plotting x-y data\n",
    "\n",
    "\n",
    "**1a)** Use the HCEPDB file you have downloaded with your `setup.sh` script from SEDS-HW1. Create a single 2x2 composite plot (*not 4 separate figures*).  The plots should contain the following data\n",
    "* Upper-left: PCE vs VOC \n",
    "* Upper-right: PCE vs JCS \n",
    "* Lower-left: E_HOMO vs VOC\n",
    "* Lower-right: E_LUMO vs PCE \n",
    "\n",
    "**Note well:** You should make the plots the **highest quality possible** and, in your judgement, **ready for inclusion in a formal report or publication**. Ensure that you follow the criteria of readability, audience and showmanship as was discussed in class. You should choose the type of plot which best represents your data.\n",
    "\n",
    "**1b)** Create a markdown cell after your plot and add the following information \n",
    "* The five terms PCE, VOC, JCS, E_HOMO and E_LUMO defined above and listed in the HCEPDB relate to photovoltaic materials - define them as they pertain to molecules that could be used for energy conversion applications \n",
    "    \n",
    "* Briefly explain the changes you made from the default plot and why you made them \n",
    "\n",
    "\n",
    "    \n"
   ]
  },
  {
   "cell_type": "code",
   "execution_count": null,
   "metadata": {
    "collapsed": true
   },
   "outputs": [],
   "source": []
  },
  {
   "cell_type": "code",
   "execution_count": null,
   "metadata": {
    "collapsed": true
   },
   "outputs": [],
   "source": []
  },
  {
   "cell_type": "code",
   "execution_count": null,
   "metadata": {
    "collapsed": true
   },
   "outputs": [],
   "source": []
  },
  {
   "cell_type": "code",
   "execution_count": null,
   "metadata": {
    "collapsed": true
   },
   "outputs": [],
   "source": []
  },
  {
   "cell_type": "code",
   "execution_count": null,
   "metadata": {
    "collapsed": true
   },
   "outputs": [],
   "source": []
  },
  {
   "cell_type": "markdown",
   "metadata": {},
   "source": [
    "### Part 2: Contour plots of a free energy surface\n",
    "\n",
    "Use the `ALA2fes.dat` file to create a contour plot of the alanine dipeptide $\\Phi$ vs $\\Psi$ free-energy surface. Guidelines and information: \n",
    "   * The energy scale in the data input file is on kJ/mol and the free-energy surface (FES) was collected at a temperature of 300K: \n",
    "   * You should create a contour plot that draws contour lines spaced every kT in energy and stops drawing contours once all of the features can be clearly seen. \n",
    "   Note: This is a slightly different visualization than what we drew in class which used shaded coloring to draw the contours \n",
    "    * Annotate the cell so I can follow all the steps you are doing. The final energy plot need not be in kJ/mol (you can convert it to other energy or use units of kT if you prefer.\n",
    "    * Make sure to have titles, axis labels, something that denotes the value of the contours\n",
    "    * Optional but encouraged, use greek letters for the axes labels\n",
    "    * Note: only the first three columns of the `ALA2fes.dat` file are relevant. The first two columns are the $\\Psi$ and $\\Phi$ coordinates, respectively. The free.file column is the free energy data. Ignore the last two columns."
   ]
  },
  {
   "cell_type": "code",
   "execution_count": null,
   "metadata": {
    "collapsed": true
   },
   "outputs": [],
   "source": []
  },
  {
   "cell_type": "markdown",
   "metadata": {},
   "source": [
    "### Part 3 - Combining visualization with descriptive statistics\n",
    "\n",
    "**3a)** Create a plot of the energy gap E_LUMO - E_HOMO which shows the distribution of the gap values. On the same plot, show the estimated distribution which best follows the data using e.g. a kernel density estimate. \n",
    "\n",
    "**3b)** Compute the mean, median and variance of your distribution. Make sure to print the values. In a markdown cell after you have printed the values, comment on the value of the mean and standard deviation in comparison to the energy of a photon from the sun in the visible spectrum range - the photon's energy is 2.17 eV."
   ]
  },
  {
   "cell_type": "code",
   "execution_count": null,
   "metadata": {},
   "outputs": [],
   "source": []
  }
 ],
 "metadata": {
  "anaconda-cloud": {},
  "kernelspec": {
   "display_name": "Python (tunnel)",
   "language": "python",
   "name": "python3"
  },
  "language_info": {
   "codemirror_mode": {
    "name": "ipython",
    "version": 3
   },
   "file_extension": ".py",
   "mimetype": "text/x-python",
   "name": "python",
   "nbconvert_exporter": "python",
   "pygments_lexer": "ipython3",
   "version": "3.7.7"
  }
 },
 "nbformat": 4,
 "nbformat_minor": 1
}
