{
 "cells": [
  {
   "cell_type": "markdown",
   "metadata": {},
   "source": [
    "## HW Assignment 2 for DSMCER"
   ]
  },
  {
   "cell_type": "markdown",
   "metadata": {},
   "source": [
    "## **Note the following points carefully:** \n",
    "\n",
    "0. Use the HCEPDB data for all parts of the HW (you can use your script from SEDS HW 1 or donwload it using pandas). Feel free to randomly sample ~5000 points to make this data easier to work with.\n",
    "\n",
    "1. You should make the plots the **highest quality possible** and, in your judgement, **ready for inclusion in a formal report or publication.** This includes labeling, font sizes, etc.\n",
    "\n",
    "2. While we encourage you to chat with eachother and work together, __you should not be copying code__.\n",
    "\n",
    "3. Remember one of the biggest advantages of the python data stack - someone has probably written code for what you need to do. If you find yourself writing lines and lines of complex code here __there is probably a better way, eg. a function written in numpy, scipy, pandas, seaborn etc.__"
   ]
  },
  {
   "cell_type": "markdown",
   "metadata": {},
   "source": [
    "***"
   ]
  },
  {
   "cell_type": "markdown",
   "metadata": {},
   "source": [
    "\n",
    "### Part 1 - Create a very specific plot\n",
    "\n",
    "**1a)** Use the HCEPDB data. Create a single 2x2 composite plot (*not 4 separate figures*).  The plots should contain the following data\n",
    "* Upper-left: PCE vs VOC __scatter plot__ \n",
    "* Upper-right: PCE vs VOC __Kernel Density plot__\n",
    "* Lower-left: PCE vs VOC __2D histogram__. Please choose a bin size that ensures the data can be clearly viewed\n",
    "* Lower-right: PCE vs VOC  __box and whisker plot__. Note that you will have to aggregate over one of your axis and each group will have a box and whiskler\n",
    "\n",
    "**1b)** Create a markdown cell after your plot and add the following information \n",
    "* Each plot has the same `y` and `x` axis data - which do you think is the best? Write a few sentences making your argument from an effectiveness/expressiveness perspective.\n"
   ]
  },
  {
   "cell_type": "code",
   "execution_count": null,
   "metadata": {},
   "outputs": [],
   "source": []
  },
  {
   "cell_type": "code",
   "execution_count": null,
   "metadata": {},
   "outputs": [],
   "source": []
  },
  {
   "cell_type": "code",
   "execution_count": null,
   "metadata": {},
   "outputs": [],
   "source": []
  },
  {
   "cell_type": "markdown",
   "metadata": {},
   "source": [
    "***"
   ]
  },
  {
   "cell_type": "markdown",
   "metadata": {},
   "source": [
    "### Part 2 - Design a new plot\n",
    "\n",
    "#### __Consider the following exploratory question__: \n",
    "\n",
    "<center>How does the molar mass of the photovoltaic material affect the relationship between the `jsc` and `pce`?</center>\n"
   ]
  },
  {
   "cell_type": "markdown",
   "metadata": {},
   "source": [
    "#### 2a) Create a single plot (no subplots) that explores this question. \n",
    "    \n",
    "__Do not directly copy one of the four plots above or one from the lecture notebooks.__ This is your opportunity to be creative! I challenge you to spend some time thinking about how you want to formulate the data into encodings, and create a concised but expressive plot that you can make real observations from.\n",
    "\n",
    "__If you worked with other people to think through this problem, list them here.__ This does not excuse you from copying code, just creating similar encodings."
   ]
  },
  {
   "cell_type": "markdown",
   "metadata": {},
   "source": [
    "### 2b) Comment in your choices\n",
    "\n",
    "In a few sentences, discuss your choice of encodings, is there anything you would like to change but do not know how? What do you like/dislike? Think about the EE trade-off. __Also comment on the actual observations about the data that you plot helps you make.__"
   ]
  },
  {
   "cell_type": "code",
   "execution_count": null,
   "metadata": {},
   "outputs": [],
   "source": []
  },
  {
   "cell_type": "code",
   "execution_count": null,
   "metadata": {},
   "outputs": [],
   "source": []
  },
  {
   "cell_type": "code",
   "execution_count": null,
   "metadata": {},
   "outputs": [],
   "source": []
  },
  {
   "cell_type": "markdown",
   "metadata": {},
   "source": [
    "***"
   ]
  },
  {
   "cell_type": "markdown",
   "metadata": {},
   "source": [
    "### Part 3 - Combining visualization with descriptive statistics\n",
    "\n",
    "#### Consider the HCEPDB data from the perspective of someone trying to develop new materials\n",
    "\n",
    "It is important that you create new materials with __energy gaps less than 1.5 eV__. Your boss tells you that in order to continue making money and progress, at least half of the materials you synthesize need to meet this requirement. They then give you the money to synthesize 50 meterials, and want to know with confidence that __using your method in the future produces more that 50% of materials with less than 1.5 eV__. \n",
    "\n",
    "#### Simulate this trial run by randomly sampling 50 data points from HCEPDB and use it for the following:\n",
    "\n",
    "**3a)** Plot an empirical distribution of \"successes\" eg. that the material has a energy gap less than 1.5 eV, for this trial run.\n",
    "\n",
    "**3b)** Run a statistical test to determine whether or not your go-no-go decision is met, eg. you should be able to say \"I am X% sure that 50% of future materials will meet the 1.5 eV requirement.\" Would you recommend continuing with this method? _Hint: t-tests are for confidence on sample means, what test can be used for confidence on sample successes?_"
   ]
  },
  {
   "cell_type": "code",
   "execution_count": null,
   "metadata": {},
   "outputs": [],
   "source": []
  },
  {
   "cell_type": "code",
   "execution_count": null,
   "metadata": {},
   "outputs": [],
   "source": []
  },
  {
   "cell_type": "code",
   "execution_count": null,
   "metadata": {},
   "outputs": [],
   "source": []
  }
 ],
 "metadata": {
  "anaconda-cloud": {},
  "kernelspec": {
   "display_name": "Python 3 (ipykernel)",
   "language": "python",
   "name": "python3"
  },
  "language_info": {
   "codemirror_mode": {
    "name": "ipython",
    "version": 3
   },
   "file_extension": ".py",
   "mimetype": "text/x-python",
   "name": "python",
   "nbconvert_exporter": "python",
   "pygments_lexer": "ipython3",
   "version": "3.9.15"
  }
 },
 "nbformat": 4,
 "nbformat_minor": 4
}
